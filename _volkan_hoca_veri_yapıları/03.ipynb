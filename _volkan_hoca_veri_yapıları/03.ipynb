{
 "cells": [
  {
   "cell_type": "code",
   "execution_count": 2,
   "metadata": {},
   "outputs": [],
   "source": [
    "class personal:\n",
    "    tipi='insan'\n",
    "    def __init__(self,ad,no):\n",
    "        self.ad = ad \n",
    "        self.no=no \n",
    "        print(\"Personel eklendi.\")"
   ]
  },
  {
   "cell_type": "code",
   "execution_count": 3,
   "metadata": {},
   "outputs": [
    {
     "name": "stdout",
     "output_type": "stream",
     "text": [
      "Personel eklendi.\n"
     ]
    }
   ],
   "source": [
    "kisi1=personal(\"Hüseyin\",235)"
   ]
  },
  {
   "cell_type": "code",
   "execution_count": 4,
   "metadata": {},
   "outputs": [
    {
     "data": {
      "text/plain": [
       "'Hüseyin'"
      ]
     },
     "execution_count": 4,
     "metadata": {},
     "output_type": "execute_result"
    }
   ],
   "source": [
    "kisi1.ad"
   ]
  },
  {
   "cell_type": "code",
   "execution_count": 5,
   "metadata": {},
   "outputs": [
    {
     "data": {
      "text/plain": [
       "235"
      ]
     },
     "execution_count": 5,
     "metadata": {},
     "output_type": "execute_result"
    }
   ],
   "source": [
    "kisi1.no "
   ]
  },
  {
   "cell_type": "code",
   "execution_count": 6,
   "metadata": {},
   "outputs": [],
   "source": [
    "class Ogrenci: \n",
    "    'Tüm öğrenciler icin temel sinif'\n",
    "    ogrenci_sayisi = 0 \n",
    "\n",
    "    def __init__(self, ad, no):\n",
    "        self.ad = ad \n",
    "        self.no = no \n",
    "        Ogrenci.ogrenci_sayisi +=1 \n",
    "    \n",
    "    def ogrenciCount():\n",
    "        return Ogrenci.ogrenci_sayisi"
   ]
  },
  {
   "cell_type": "code",
   "execution_count": 7,
   "metadata": {},
   "outputs": [],
   "source": [
    "ogr1 = Ogrenci('Deniz', 123)\n",
    "ogr2 = Ogrenci('Berkay', 418)"
   ]
  },
  {
   "cell_type": "code",
   "execution_count": 8,
   "metadata": {},
   "outputs": [
    {
     "data": {
      "text/plain": [
       "2"
      ]
     },
     "execution_count": 8,
     "metadata": {},
     "output_type": "execute_result"
    }
   ],
   "source": [
    "Ogrenci.ogrenciCount()"
   ]
  },
  {
   "cell_type": "markdown",
   "metadata": {},
   "source": [
    "- dict: Sınıfın ad alanını içeren sözlük. \n",
    "- doc: Tanımlanmamışsa, sınıf belgelendirme metni içerir. \n",
    "- name: Sınıf adı \n",
    "- module: Sınıfın tanımlandığı modül adı. Bu özellik, etkileşimli modda \"main\" şeklindedir. \n",
    "- bases: Temel sınıf listesindeki oluşum sırasına göre, temel sınıflarda muhtemelen boş bir tupledır. "
   ]
  },
  {
   "cell_type": "code",
   "execution_count": 10,
   "metadata": {},
   "outputs": [
    {
     "name": "stdout",
     "output_type": "stream",
     "text": [
      "Ognreci.__doc__: Tüm öğrenciler icin temel sinif\n",
      "Ogrenci.__name__: Ogrenci\n",
      "Ogrenci.__module__: __main__\n",
      "Ogrenci.__bases__: (<class 'object'>,)\n",
      "Ogrenci.__dict__: {'__module__': '__main__', '__doc__': 'Tüm öğrenciler icin temel sinif', 'ogrenci_sayisi': 2, '__init__': <function Ogrenci.__init__ at 0x000001B0B6422A70>, 'ogrenciCount': <function Ogrenci.ogrenciCount at 0x000001B0B6421C60>, '__dict__': <attribute '__dict__' of 'Ogrenci' objects>, '__weakref__': <attribute '__weakref__' of 'Ogrenci' objects>}\n"
     ]
    }
   ],
   "source": [
    "print(\"Ognreci.__doc__:\", Ogrenci.__doc__)\n",
    "print(\"Ogrenci.__name__:\", Ogrenci.__name__)\n",
    "print(\"Ogrenci.__module__:\", Ogrenci.__module__)\n",
    "print(\"Ogrenci.__bases__:\", Ogrenci.__bases__)\n",
    "print(\"Ogrenci.__dict__:\", Ogrenci.__dict__)"
   ]
  },
  {
   "cell_type": "markdown",
   "metadata": {},
   "source": [
    "#### Özelliklere erişmek için normal ifadeleri kullanmak yerine, aşşağıdaki fonksiyonları kullanabilirsiniz: \n",
    "- getattr(obj, name): nesnenin özelliğine erişmek için kullanılır. \n",
    "- hasattr(obj, name): bir özellik var olup olmadığını kontrol etmek için kullanılır. (True/False)\n",
    "- setattr(obj, name, value): Bir özellik belirlemek için kullanılır. Özellik yoksa o zaman oluşturulur. \n",
    "- delattr(obj, name): Bir özelliği silmek için kullanılır."
   ]
  },
  {
   "cell_type": "code",
   "execution_count": 11,
   "metadata": {},
   "outputs": [
    {
     "name": "stdout",
     "output_type": "stream",
     "text": [
      "Cocuk constructori cagirma\n",
      "Cocuk methotu cagirma\n",
      "Ana metotu cagirma\n",
      "Ana attribute : 200\n"
     ]
    }
   ],
   "source": [
    "class Ana: \n",
    "    AnaAttr = 100 \n",
    "    def __init__(self):\n",
    "        print(\"Ana constructori cagirma\")\n",
    "    \n",
    "    def AnaMethod(self):\n",
    "        print(\"Ana metotu cagirma\")\n",
    "\n",
    "    def setAttr(self, attr):\n",
    "        Ana.AnaAttr = attr\n",
    "\n",
    "    def getAttr(self):\n",
    "        print(\"Ana attribute :\", Ana.AnaAttr)\n",
    "\n",
    "class Cocuk(Ana): \n",
    "    def __init__(self):\n",
    "        print(\"Cocuk constructori cagirma\")\n",
    "    def CocukMethod(self):\n",
    "        print(\"Cocuk methotu cagirma\")\n",
    "\n",
    "c = Cocuk()\n",
    "c.CocukMethod()\n",
    "c.AnaMethod()\n",
    "c.setAttr(200)\n",
    "c.getAttr()"
   ]
  },
  {
   "cell_type": "code",
   "execution_count": 13,
   "metadata": {},
   "outputs": [
    {
     "name": "stdout",
     "output_type": "stream",
     "text": [
      "1\n",
      "2\n",
      "4\n"
     ]
    }
   ],
   "source": [
    "class Sayac:\n",
    "    __priSayac = 0 # local __ den dolayı \n",
    "    priSayac = 0 # global \n",
    "\n",
    "    def say(self): \n",
    "        self.__priSayac += 1\n",
    "        self.priSayac+=2 \n",
    "        print(self.__priSayac) \n",
    "\n",
    "syc = Sayac()\n",
    "syc.say()\n",
    "syc.say()\n",
    "print(syc.priSayac)"
   ]
  },
  {
   "cell_type": "code",
   "execution_count": 18,
   "metadata": {},
   "outputs": [
    {
     "name": "stdout",
     "output_type": "stream",
     "text": [
      "22\n"
     ]
    },
    {
     "ename": "NameError",
     "evalue": "name 'myfunc' is not defined",
     "output_type": "error",
     "traceback": [
      "\u001b[1;31m---------------------------------------------------------------------------\u001b[0m",
      "\u001b[1;31mNameError\u001b[0m                                 Traceback (most recent call last)",
      "Cell \u001b[1;32mIn [18], line 12\u001b[0m\n\u001b[0;32m     10\u001b[0m p1 \u001b[38;5;241m=\u001b[39m Person(\u001b[38;5;124m\"\u001b[39m\u001b[38;5;124mCevdet\u001b[39m\u001b[38;5;124m\"\u001b[39m, \u001b[38;5;241m22\u001b[39m)\n\u001b[0;32m     11\u001b[0m \u001b[38;5;28mprint\u001b[39m(p1\u001b[38;5;241m.\u001b[39mage)\n\u001b[1;32m---> 12\u001b[0m \u001b[43mmyfunc\u001b[49m()\n\u001b[0;32m     14\u001b[0m \u001b[38;5;28;01mdel\u001b[39;00m p1\u001b[38;5;241m.\u001b[39mage \n\u001b[0;32m     16\u001b[0m \u001b[38;5;28mprint\u001b[39m(p1\u001b[38;5;241m.\u001b[39mage)\n",
      "\u001b[1;31mNameError\u001b[0m: name 'myfunc' is not defined"
     ]
    }
   ],
   "source": [
    "class Person:\n",
    "    def __init__(self, name, age):\n",
    "        self.name = name \n",
    "        self.age = age \n",
    "\n",
    "    def myfunc(self):\n",
    "        print(\"Merhaba benim adim \" + self.name)\n",
    "        print(\"Yasim \" + str(self.age))\n",
    "    \n",
    "p1 = Person(\"Cevdet\", 22)\n",
    "print(p1.age)\n",
    "myfunc()\n",
    "\n",
    "del p1.age \n",
    "\n",
    "print(p1.age)"
   ]
  }
 ],
 "metadata": {
  "kernelspec": {
   "display_name": "Python 3",
   "language": "python",
   "name": "python3"
  },
  "language_info": {
   "codemirror_mode": {
    "name": "ipython",
    "version": 3
   },
   "file_extension": ".py",
   "mimetype": "text/x-python",
   "name": "python",
   "nbconvert_exporter": "python",
   "pygments_lexer": "ipython3",
   "version": "3.10.8"
  }
 },
 "nbformat": 4,
 "nbformat_minor": 2
}
