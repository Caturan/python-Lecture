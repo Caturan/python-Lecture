{
 "cells": [
  {
   "cell_type": "code",
   "execution_count": 2,
   "metadata": {},
   "outputs": [
    {
     "name": "stdout",
     "output_type": "stream",
     "text": [
      "Hafiza\n"
     ]
    }
   ],
   "source": [
    "kelime=input(\"Bir kelime girin :\")\n",
    "sozluk ={\n",
    "    \"Driver\": \"Sürücü\",\n",
    "    \"Memory\": \"Hafiza\",\n",
    "    \"Output\": \"Cikti\",\n",
    "    \"Software\": \"Yazilim\", \n",
    "    \"Printer\": \"Yazici\"\n",
    "}\n",
    "\n",
    "if kelime in sozluk:\n",
    "    print(sozluk[kelime])\n",
    "else:\n",
    "    print(\"Aradiğiniz kelime bulunamadi !!!\")"
   ]
  },
  {
   "cell_type": "code",
   "execution_count": 5,
   "metadata": {},
   "outputs": [
    {
     "name": "stdout",
     "output_type": "stream",
     "text": [
      "Yazilim\n"
     ]
    }
   ],
   "source": [
    "kelime=input(\"Bir kelime girin :\")\n",
    "sozluk ={\n",
    "    \"Driver\": \"Sürücü\",\n",
    "    \"Memory\": \"Hafiza\",\n",
    "    \"Output\": \"Cikti\",\n",
    "    \"Software\": \"Yazilim\", \n",
    "    \"Printer\": \"Yazici\"\n",
    "}\n",
    "print(sozluk.get(kelime, \"Aradiginiz kelime sözlük icinde bulunmamaktadır.\"))"
   ]
  },
  {
   "cell_type": "code",
   "execution_count": 7,
   "metadata": {},
   "outputs": [
    {
     "name": "stdout",
     "output_type": "stream",
     "text": [
      "{'Driver': 'Sürücü', 'Output': 'Cikti', 'Software': 'Yazilim', 'Printer': 'Yazici'}\n"
     ]
    }
   ],
   "source": [
    "sozluk={\n",
    "    \"Driver\": \"Sürücü\",\n",
    "    \"Memory\": \"Hafiza\",\n",
    "    \"Output\": \"Cikti\",\n",
    "    \"Software\": \"Yazilim\",\n",
    "    \"Printer\": \"Yazici\",\n",
    "}\n",
    "\n",
    "sozluk.pop(\"Memory\")\n",
    "print(sozluk)"
   ]
  },
  {
   "cell_type": "code",
   "execution_count": 9,
   "metadata": {},
   "outputs": [
    {
     "name": "stdout",
     "output_type": "stream",
     "text": [
      "337\n",
      "Cevdet\n",
      "True\n"
     ]
    }
   ],
   "source": [
    "ogrenci = {\n",
    "    \"Name\": \"Cevdet\",\n",
    "    \"No\": 337,\n",
    "    \"Love\": True\n",
    "}\n",
    "\n",
    "print(ogrenci[\"No\"])\n",
    "print(ogrenci[\"Name\"])\n",
    "print(ogrenci[\"Love\"])"
   ]
  },
  {
   "cell_type": "code",
   "execution_count": 11,
   "metadata": {},
   "outputs": [],
   "source": [
    "ogrenciler = {}\n",
    "\n",
    "number = input(\"ogrenci no: \")\n",
    "name = input(\"ogrenci adi: \")\n",
    "surname = input(\"ogrenci soyad: \")\n",
    "phone = input(\"ogrenci telefon: \")\n",
    "\n",
    "ogrenciler.update({\n",
    "    number: {\n",
    "        'ad': name, \n",
    "        'soyad': surname,\n",
    "        'telefon': phone\n",
    "    }\n",
    "})"
   ]
  },
  {
   "cell_type": "code",
   "execution_count": 12,
   "metadata": {},
   "outputs": [
    {
     "name": "stdout",
     "output_type": "stream",
     "text": [
      "{'337': {'ad': 'Cevdet', 'soyad': 'TURAN', 'telefon': '44400'}}\n"
     ]
    }
   ],
   "source": [
    "print(ogrenciler)"
   ]
  },
  {
   "cell_type": "code",
   "execution_count": 13,
   "metadata": {},
   "outputs": [
    {
     "name": "stdout",
     "output_type": "stream",
     "text": [
      "{'ad': 'Cevdet', 'soyad': 'TURAN', 'telefon': '44400'}\n",
      "Aradiginiz 337 nolu ogrencinin adi: Cevdet soyadi: TURAN ve telefon numarasi: 44400\n"
     ]
    }
   ],
   "source": [
    "ogrNo = input('ogrenci no: ')\n",
    "ogrenci = ogrenciler[ogrNo]\n",
    "print(ogrenci)\n",
    "\n",
    "print(f\"Aradiginiz {ogrNo} nolu ogrencinin adi: {ogrenci['ad']} soyadi: {ogrenci['soyad']} ve telefon numarasi: {ogrenci['telefon']}\")"
   ]
  },
  {
   "cell_type": "markdown",
   "metadata": {},
   "source": [
    "## Set(Küme) nedir? "
   ]
  },
  {
   "cell_type": "code",
   "execution_count": 1,
   "metadata": {},
   "outputs": [
    {
     "name": "stdout",
     "output_type": "stream",
     "text": [
      "{'Akhisar', 4, 'Python', 'c'}\n"
     ]
    }
   ],
   "source": [
    "kume = {\"Python\", 'c',4, \"Akhisar\"}\n",
    "print(kume)"
   ]
  },
  {
   "cell_type": "code",
   "execution_count": 1,
   "metadata": {},
   "outputs": [
    {
     "name": "stdout",
     "output_type": "stream",
     "text": [
      "<class 'dict'>\n"
     ]
    }
   ],
   "source": [
    "kume={}\n",
    "print(type(kume))"
   ]
  },
  {
   "cell_type": "code",
   "execution_count": 2,
   "metadata": {},
   "outputs": [
    {
     "name": "stdout",
     "output_type": "stream",
     "text": [
      "<class 'set'>\n"
     ]
    }
   ],
   "source": [
    "kume=set()\n",
    "print(type(kume))"
   ]
  },
  {
   "cell_type": "code",
   "execution_count": 3,
   "metadata": {},
   "outputs": [
    {
     "name": "stdout",
     "output_type": "stream",
     "text": [
      "<class 'dict'>\n",
      "<class 'set'>\n"
     ]
    }
   ],
   "source": [
    "x={\"1\":\"bir\",\"2\":\"iki\"}\n",
    "print(type(x))\n",
    "y={\"1\",\"2\",\"3\"}\n",
    "print(type(y))"
   ]
  },
  {
   "cell_type": "code",
   "execution_count": 5,
   "metadata": {},
   "outputs": [
    {
     "name": "stdout",
     "output_type": "stream",
     "text": [
      "{'c', 'Turgutlu', 4, 'Python'}\n"
     ]
    }
   ],
   "source": [
    "kume={\"Python\", 'c', 4, \"Turgutlu\", 4}\n",
    "print(kume)"
   ]
  },
  {
   "cell_type": "code",
   "execution_count": 6,
   "metadata": {},
   "outputs": [
    {
     "name": "stdout",
     "output_type": "stream",
     "text": [
      "{1, 2, 3, 4, 5, 6}\n"
     ]
    }
   ],
   "source": [
    "kume={1,2,3,4,5}\n",
    "kume.add(6)\n",
    "print(kume)"
   ]
  },
  {
   "cell_type": "code",
   "execution_count": 7,
   "metadata": {},
   "outputs": [
    {
     "name": "stdout",
     "output_type": "stream",
     "text": [
      "{1, 2, 3, 4, 5, 6}\n"
     ]
    }
   ],
   "source": [
    "kume = {1,2,3,4,5,6}\n",
    "kume_2 = set()\n",
    "kume_2 = kume.copy()\n",
    "print(kume_2)"
   ]
  },
  {
   "cell_type": "code",
   "execution_count": 8,
   "metadata": {},
   "outputs": [
    {
     "name": "stdout",
     "output_type": "stream",
     "text": [
      "{1, 2, 3, 4, 5, 6, 7, 8, 9}\n"
     ]
    }
   ],
   "source": [
    "kume={1,2,3,4,5,6}\n",
    "kume_2={6,7,8,9}\n",
    "kume.update(kume_2)\n",
    "print(kume)"
   ]
  },
  {
   "cell_type": "code",
   "execution_count": 9,
   "metadata": {},
   "outputs": [
    {
     "name": "stdout",
     "output_type": "stream",
     "text": [
      "{1, 2, 4}\n"
     ]
    }
   ],
   "source": [
    "kume={1,2,3,4}\n",
    "kume.remove(3)\n",
    "print(kume)"
   ]
  },
  {
   "cell_type": "code",
   "execution_count": 10,
   "metadata": {},
   "outputs": [],
   "source": [
    "A = {1,2,3,4}\n",
    "B = {2,3,4,5,6,7}\n",
    "C = {4,5,6,7,8,9,10}"
   ]
  },
  {
   "cell_type": "code",
   "execution_count": 11,
   "metadata": {},
   "outputs": [
    {
     "name": "stdout",
     "output_type": "stream",
     "text": [
      "{1, 2, 3, 4, 5, 6, 7}\n"
     ]
    }
   ],
   "source": [
    "print(A.union(B))"
   ]
  },
  {
   "cell_type": "code",
   "execution_count": 12,
   "metadata": {},
   "outputs": [
    {
     "name": "stdout",
     "output_type": "stream",
     "text": [
      "{4}\n"
     ]
    }
   ],
   "source": [
    "print(A.intersection(B.intersection(C)))"
   ]
  },
  {
   "cell_type": "code",
   "execution_count": 13,
   "metadata": {},
   "outputs": [
    {
     "name": "stdout",
     "output_type": "stream",
     "text": [
      "{1, 2, 3}\n"
     ]
    }
   ],
   "source": [
    "print(A.difference(C))"
   ]
  },
  {
   "cell_type": "code",
   "execution_count": 17,
   "metadata": {},
   "outputs": [
    {
     "name": "stdout",
     "output_type": "stream",
     "text": [
      "True\n"
     ]
    }
   ],
   "source": [
    "A = {1,2,5,8,9,12}\n",
    "B = {1,2,5}\n",
    "print(B.issubset(A))"
   ]
  },
  {
   "cell_type": "code",
   "execution_count": 20,
   "metadata": {},
   "outputs": [
    {
     "name": "stdout",
     "output_type": "stream",
     "text": [
      "karpuz\n",
      "elma\n",
      "armut\n"
     ]
    }
   ],
   "source": [
    "meyveler = {\"elma\", \"armut\", \"karpuz\"}\n",
    "for meyve in meyveler:\n",
    "    print(meyve)"
   ]
  },
  {
   "cell_type": "code",
   "execution_count": 21,
   "metadata": {},
   "outputs": [
    {
     "name": "stdout",
     "output_type": "stream",
     "text": [
      "True\n"
     ]
    }
   ],
   "source": [
    "print(\"elma\" in meyveler)"
   ]
  },
  {
   "cell_type": "code",
   "execution_count": 22,
   "metadata": {},
   "outputs": [
    {
     "data": {
      "text/plain": [
       "set()"
      ]
     },
     "execution_count": 22,
     "metadata": {},
     "output_type": "execute_result"
    }
   ],
   "source": [
    "meyveler.clear()\n",
    "meyveler"
   ]
  },
  {
   "cell_type": "code",
   "execution_count": 24,
   "metadata": {},
   "outputs": [
    {
     "ename": "NameError",
     "evalue": "name 'meyveler' is not defined",
     "output_type": "error",
     "traceback": [
      "\u001b[1;31m---------------------------------------------------------------------------\u001b[0m",
      "\u001b[1;31mNameError\u001b[0m                                 Traceback (most recent call last)",
      "Cell \u001b[1;32mIn [24], line 1\u001b[0m\n\u001b[1;32m----> 1\u001b[0m \u001b[38;5;28;01mdel\u001b[39;00m meyveler \n\u001b[0;32m      2\u001b[0m meyveler \u001b[38;5;66;03m# delete everything \u001b[39;00m\n",
      "\u001b[1;31mNameError\u001b[0m: name 'meyveler' is not defined"
     ]
    }
   ],
   "source": [
    "del meyveler \n",
    "meyveler # delete everything "
   ]
  },
  {
   "cell_type": "code",
   "execution_count": 25,
   "metadata": {},
   "outputs": [
    {
     "name": "stdout",
     "output_type": "stream",
     "text": [
      "True\n"
     ]
    }
   ],
   "source": [
    "A={1,2,3}\n",
    "B={3,2,2,1,1,2,3,2,3,3,1,1,2,3} #{1,2,3}\n",
    "print(A==B)"
   ]
  },
  {
   "cell_type": "markdown",
   "metadata": {},
   "source": [
    "- Frozenset(kısıtlı küme) elemanları sonradan değiştirilemez."
   ]
  }
 ],
 "metadata": {
  "kernelspec": {
   "display_name": "Python 3",
   "language": "python",
   "name": "python3"
  },
  "language_info": {
   "codemirror_mode": {
    "name": "ipython",
    "version": 3
   },
   "file_extension": ".py",
   "mimetype": "text/x-python",
   "name": "python",
   "nbconvert_exporter": "python",
   "pygments_lexer": "ipython3",
   "version": "3.10.8"
  }
 },
 "nbformat": 4,
 "nbformat_minor": 2
}
