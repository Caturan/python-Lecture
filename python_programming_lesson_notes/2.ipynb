{
 "cells": [
  {
   "cell_type": "markdown",
   "metadata": {},
   "source": [
    "# Functions"
   ]
  },
  {
   "cell_type": "markdown",
   "metadata": {},
   "source": [
    "- Functions are defined by using def keyword, name and the parenthesized list of formal parameters. \n"
   ]
  },
  {
   "cell_type": "code",
   "execution_count": null,
   "metadata": {},
   "outputs": [],
   "source": [
    "# Basis Function Definition \n",
    "def function_name():\n",
    "    pass"
   ]
  },
  {
   "cell_type": "code",
   "execution_count": 1,
   "metadata": {},
   "outputs": [],
   "source": [
    "# Input/Output Arguments \n",
    "def fn(arg1, arg2):\n",
    "    return arg1 + arg2 "
   ]
  },
  {
   "cell_type": "code",
   "execution_count": 2,
   "metadata": {},
   "outputs": [],
   "source": [
    "# Default Values for Arguments \n",
    "def fn(arg1=0, arg2=0):\n",
    "    return arg1 + arg2 "
   ]
  },
  {
   "cell_type": "code",
   "execution_count": 3,
   "metadata": {},
   "outputs": [],
   "source": [
    "# Type Hints and Default Values for Arguments \n",
    "def fn(arg1: int = 0, arg2: int = 0) -> int:\n",
    "    return arg1 + arg2 "
   ]
  },
  {
   "cell_type": "code",
   "execution_count": 4,
   "metadata": {},
   "outputs": [],
   "source": [
    "# Multiple Type Hints for Arguments \n",
    "def fn(arg1: int = 0, arg2: int = 0) -> int:\n",
    "    return arg1 + arg2 "
   ]
  },
  {
   "cell_type": "code",
   "execution_count": 5,
   "metadata": {},
   "outputs": [],
   "source": [
    "# Lambda Functions \n",
    "fn = lambda arg1, arg2: arg1 + arg2 "
   ]
  },
  {
   "cell_type": "code",
   "execution_count": 6,
   "metadata": {},
   "outputs": [],
   "source": [
    "# Function Docstrings \n",
    "def fn(arg1 = 0, arg2 = 0):\n",
    "    return arg1 + arg2 "
   ]
  },
  {
   "cell_type": "code",
   "execution_count": 10,
   "metadata": {},
   "outputs": [
    {
     "name": "stdout",
     "output_type": "stream",
     "text": [
      "Hello, Alice! You are 30 years old.\n"
     ]
    },
    {
     "data": {
      "text/plain": [
       "'\\nIn this example, \"Alice\" is assigned to name because it comes first in the function call, \\nand 30 is assigned to age because it comes second.\\n'"
      ]
     },
     "execution_count": 10,
     "metadata": {},
     "output_type": "execute_result"
    }
   ],
   "source": [
    "\"\"\"\n",
    "Positional Arguments:\n",
    "Positional arguments are passed to a function in the order they are defined. When you define a function with parameters, the values passed in the function call are assigned to the parameters in the order they appear in the function definition.\n",
    "\n",
    "Here's an example:\n",
    "\"\"\"\n",
    "def greet(name, age):\n",
    "    print(f\"Hello, {name}! You are {age} years old.\")\n",
    "\n",
    "# Calling the function with positional arguments\n",
    "greet(\"Alice\", 30)\n",
    "\n",
    "\"\"\"\n",
    "In this example, \"Alice\" is assigned to name because it comes first in the function call, \n",
    "and 30 is assigned to age because it comes second.\n",
    "\"\"\""
   ]
  },
  {
   "cell_type": "code",
   "execution_count": 11,
   "metadata": {},
   "outputs": [
    {
     "name": "stdout",
     "output_type": "stream",
     "text": [
      "Hello, Alice! You are 30 years old.\n"
     ]
    },
    {
     "data": {
      "text/plain": [
       "\"\\nIn this call, we explicitly specify which value corresponds to which parameter by using the parameter names (age and name), separated by '='. \\n\""
      ]
     },
     "execution_count": 11,
     "metadata": {},
     "output_type": "execute_result"
    }
   ],
   "source": [
    "\"\"\"\n",
    "Keyword Arguments:\n",
    "Keyword arguments are passed with a keyword parameter name and its corresponding value. This allows you to specify which argument corresponds to which parameter regardless of their order.\n",
    "\n",
    "Here's how you use keyword arguments:\n",
    "\"\"\"\n",
    "# Calling the function with keyword arguments\n",
    "greet(age=30, name=\"Alice\")\n",
    "\"\"\"\n",
    "In this call, we explicitly specify which value corresponds to which parameter by using the parameter names (age and name), separated by '='. \n",
    "\"\"\""
   ]
  },
  {
   "cell_type": "code",
   "execution_count": 13,
   "metadata": {},
   "outputs": [
    {
     "name": "stdout",
     "output_type": "stream",
     "text": [
      "Hello, Alice! You are 30 years old.\n"
     ]
    }
   ],
   "source": [
    "\"\"\"\n",
    "Mix of Positional and Keyword Arguments:\n",
    "You can mix positional and keyword arguments in a function call, but all positional arguments must come before keyword arguments.\n",
    "\"\"\"\n",
    "# Mix of positional and keyword arguments\n",
    "greet(\"Alice\", age=30)\n",
    "# Here, \"Alice\" is a positional argument, and age=30 is a keyword argument."
   ]
  },
  {
   "cell_type": "code",
   "execution_count": 14,
   "metadata": {},
   "outputs": [
    {
     "name": "stdout",
     "output_type": "stream",
     "text": [
      "Hello, Alice! You are 18 years old.\n",
      "Hello, Bob! You are 25 years old.\n"
     ]
    },
    {
     "data": {
      "text/plain": [
       "'\\nIn this example, age has a default value of 18, so if we call greet without specifying age, it will default to 18.\\n\\nThese are the basics of using positional and keyword arguments in Python functions. They provide flexibility in how you pass arguments to functions, making your code more readable and maintainable.\\n'"
      ]
     },
     "execution_count": 14,
     "metadata": {},
     "output_type": "execute_result"
    }
   ],
   "source": [
    "\"\"\"\n",
    "Default Values:\n",
    "You can also provide default values for parameters in Python functions. Parameters with default values can be omitted in function calls, \n",
    "and the default value will be used.\n",
    "\"\"\"\n",
    "def greet(name, age=18):\n",
    "    print(f\"Hello, {name}! You are {age} years old.\")\n",
    "\n",
    "# Call without specifying age\n",
    "greet(\"Alice\")  # Output: Hello, Alice! You are 18 years old.\n",
    "\n",
    "# Call with specifying age\n",
    "greet(\"Bob\", 25)  # Output: Hello, Bob! You are 25 years old.\n",
    "\n",
    "\"\"\"\n",
    "In this example, age has a default value of 18, so if we call greet without specifying age, it will default to 18.\n",
    "\n",
    "These are the basics of using positional and keyword arguments in Python functions. They provide flexibility in how you pass arguments to functions, making your code more readable and maintainable.\n",
    "\"\"\"\n"
   ]
  },
  {
   "cell_type": "markdown",
   "metadata": {},
   "source": [
    "### Nested Scopes \n",
    "Like attributes, function object can also have methods. These methods can be used as inner functions and can be useful for encapsulation. "
   ]
  },
  {
   "cell_type": "code",
   "execution_count": 20,
   "metadata": {},
   "outputs": [
    {
     "name": "stdout",
     "output_type": "stream",
     "text": [
      "I am a parent function.\n"
     ]
    }
   ],
   "source": [
    "def parent_function():\n",
    "    def nested_function():\n",
    "        print(\"I am a nested function.\")\n",
    "    print(\"I am a parent function.\")\n",
    "    \n",
    "parent_function()"
   ]
  },
  {
   "cell_type": "code",
   "execution_count": 22,
   "metadata": {},
   "outputs": [
    {
     "name": "stdout",
     "output_type": "stream",
     "text": [
      "I am a parent function\n",
      "I am nested function\n"
     ]
    }
   ],
   "source": [
    "def parent_function():\n",
    "    def nested_function():\n",
    "        print(\"I am nested function\")\n",
    "    print(\"I am a parent function\")\n",
    "    return nested_function\n",
    "\n",
    "nested = parent_function()\n",
    "nested()"
   ]
  },
  {
   "cell_type": "code",
   "execution_count": 27,
   "metadata": {},
   "outputs": [
    {
     "data": {
      "text/plain": [
       "<function __main__.point(x, y)>"
      ]
     },
     "execution_count": 27,
     "metadata": {},
     "output_type": "execute_result"
    }
   ],
   "source": [
    "# Getter and Setter Methods \n",
    "def point(x,y):\n",
    "    def set_x(new_x):\n",
    "        nonlocal x \n",
    "        x = new_x \n",
    "    def set_y(new_y):\n",
    "        nonlocal y \n",
    "        y = new_y\n",
    "    def get():\n",
    "        return x,y \n",
    "    point.set_x = set_x \n",
    "    point.set_y = set_y\n",
    "    point.get = get \n",
    "    return point\n",
    "\n",
    "point(1,2)"
   ]
  }
 ],
 "metadata": {
  "kernelspec": {
   "display_name": "Python 3",
   "language": "python",
   "name": "python3"
  },
  "language_info": {
   "codemirror_mode": {
    "name": "ipython",
    "version": 3
   },
   "file_extension": ".py",
   "mimetype": "text/x-python",
   "name": "python",
   "nbconvert_exporter": "python",
   "pygments_lexer": "ipython3",
   "version": "3.10.8"
  }
 },
 "nbformat": 4,
 "nbformat_minor": 2
}
