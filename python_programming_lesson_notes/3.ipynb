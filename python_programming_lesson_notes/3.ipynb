{
 "cells": [
  {
   "cell_type": "markdown",
   "metadata": {},
   "source": [
    "# Classes "
   ]
  },
  {
   "cell_type": "markdown",
   "metadata": {},
   "source": [
    "- Classes are define by using class keyword, and can include attributes and methods. \n",
    "- Class names should be in CapWords convention, with words seperated by uppercase letters as necessary to improve the readability. "
   ]
  },
  {
   "cell_type": "code",
   "execution_count": 3,
   "metadata": {},
   "outputs": [
    {
     "name": "stdout",
     "output_type": "stream",
     "text": [
      "<__main__.ClassName object at 0x00000241DEC63E80>\n"
     ]
    },
    {
     "data": {
      "text/plain": [
       "True"
      ]
     },
     "execution_count": 3,
     "metadata": {},
     "output_type": "execute_result"
    }
   ],
   "source": [
    "# Class Definition \n",
    "class ClassName:\n",
    "    pass \n",
    "class_name = ClassName()\n",
    "print(class_name)\n",
    "\n",
    "isinstance(class_name, ClassName)"
   ]
  },
  {
   "cell_type": "code",
   "execution_count": 38,
   "metadata": {},
   "outputs": [],
   "source": [
    "class Student:\n",
    "    def __init__(self,student_id, name, age):\n",
    "        self.student_id = student_id\n",
    "        self.name = name \n",
    "        self.age = age \n",
    "        self.courses = []\n",
    "    \n",
    "    def register(self,course):\n",
    "        if course not in self.courses:\n",
    "            self.courses.append(course)\n",
    "\n",
    "    def drop(self, course):\n",
    "        if course in self.courses:\n",
    "            self.courses.remove(course)"
   ]
  },
  {
   "cell_type": "code",
   "execution_count": 39,
   "metadata": {},
   "outputs": [
    {
     "name": "stdout",
     "output_type": "stream",
     "text": [
      "<__main__.Student object at 0x00000241DF2D0E20>\n",
      "7\n",
      "39\n",
      "[]\n",
      "['CSE 3244']\n",
      "['CSE 3244', 'CSE 3237']\n",
      "['CSE 3244']\n"
     ]
    }
   ],
   "source": [
    "student = Student(7, \"Bora Canbula\", 39)\n",
    "print(student)\n",
    "print(student.student_id)\n",
    "print(student.age)\n",
    "print(student.courses)\n",
    "student.register(\"CSE 3244\")\n",
    "print(student.courses)\n",
    "student.register(\"CSE 3237\")\n",
    "print(student.courses)\n",
    "student.drop(\"CSE 3237\")\n",
    "print(student.courses)\n",
    "\n",
    "# Representing Objects as Strings \n",
    "def __str__(self):\n",
    "    return f\"Student: {self.student_id}, {self.name}, {self.age}\"\n",
    "\n",
    "def __rep__(self):\n",
    "    return f\"Student({self.student_id}, \\\"{self.name}\\\", {self.age})\"\n",
    "\n",
    "#recreated_student = eval(repr(student))"
   ]
  },
  {
   "cell_type": "markdown",
   "metadata": {},
   "source": [
    "# Inheritance "
   ]
  },
  {
   "cell_type": "markdown",
   "metadata": {},
   "source": [
    "Classes can inherit another class, and must initialize the parent class first in the constructor of the child class. "
   ]
  },
  {
   "cell_type": "code",
   "execution_count": null,
   "metadata": {},
   "outputs": [],
   "source": [
    "pip install classes"
   ]
  },
  {
   "cell_type": "code",
   "execution_count": null,
   "metadata": {},
   "outputs": [],
   "source": [
    "from classes import Student \n",
    "\n",
    "class GraduateStudent(Student):\n",
    "    def __init__(\n",
    "        self, student_id, name, age, /,\n",
    "        advisor = None, thesis = None \n",
    "    ):\n",
    "        super().__init__(student_id, name, age)\n",
    "        self.advisor = advisor\n",
    "        self.thesis = thesis \n",
    "\n",
    "student = GraduateStudent(7, \"Bora Canbula\", 39)\n",
    "print(student.student_id)\n",
    "print(student.name)\n",
    "print(student.age)"
   ]
  }
 ],
 "metadata": {
  "kernelspec": {
   "display_name": "Python 3",
   "language": "python",
   "name": "python3"
  },
  "language_info": {
   "codemirror_mode": {
    "name": "ipython",
    "version": 3
   },
   "file_extension": ".py",
   "mimetype": "text/x-python",
   "name": "python",
   "nbconvert_exporter": "python",
   "pygments_lexer": "ipython3",
   "version": "3.10.8"
  }
 },
 "nbformat": 4,
 "nbformat_minor": 2
}
