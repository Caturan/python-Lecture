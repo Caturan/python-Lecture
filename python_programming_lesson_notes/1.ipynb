{
 "cells": [
  {
   "cell_type": "markdown",
   "metadata": {},
   "source": [
    "### Identifier Names"
   ]
  },
  {
   "cell_type": "markdown",
   "metadata": {},
   "source": [
    "For variables, functions, classes etc. We use identifier names. We must obey some rules and we should follow some naming conventions. \n",
    "- Names are case sensitive. \n",
    "- Names can be a combination of letters, digits, and underscore. \n",
    "- Names can only start with a letter or underscore, can not start with a digit. \n",
    "- Keywords can not be used as a name. "
   ]
  },
  {
   "cell_type": "markdown",
   "metadata": {},
   "source": [
    "### Conventions \n",
    "- Names to Avoid\n",
    "    - Never use the characters 'l'(lowercase letter), 'O' (uppercase letter oh), or 'l' (uppercase letter eye) as single character variable names. \n",
    "- Packages \n",
    "    - Short, all-lowercase names without underscores. \n",
    "- Modules \n",
    "    - Short, all-lowercase names, can have underscores. \n",
    "- Classes \n",
    "    - CapWords (upper camel case) convention \n",
    "- Functions \n",
    "    - snake_case convention \n",
    "- Variables\n",
    "    - snake_case convention\n",
    "- Constants \n",
    "    - ALL_UPPERCASE, words seperated by underscores "
   ]
  },
  {
   "cell_type": "markdown",
   "metadata": {},
   "source": [
    "### Variable Types \n",
    "Python is dynamically typed. Python does not have primitive types. Everything is an object in Python, therefore, a variable is purely a reference to an object with the specified value. \n",
    "- Numeric Types \n",
    "    - Integer\n",
    "    - Float \n",
    "    - Complex\n",
    "    - Boolean \n",
    "\n",
    "- Sequences \n",
    "    - Strings \n",
    "    - List\n",
    "    - Tuple\n",
    "    - Set\n",
    "    - Dictionary "
   ]
  },
  {
   "cell_type": "code",
   "execution_count": 2,
   "metadata": {},
   "outputs": [
    {
     "name": "stdout",
     "output_type": "stream",
     "text": [
      "roB\n"
     ]
    }
   ],
   "source": [
    "# What is the output of the code below? \n",
    "my_name = \"Bora Canbula\"\n",
    "print(my_name[2::-1])"
   ]
  },
  {
   "cell_type": "code",
   "execution_count": 3,
   "metadata": {},
   "outputs": [
    {
     "name": "stdout",
     "output_type": "stream",
     "text": [
      " 10.50 21.00 31.50 42.00"
     ]
    }
   ],
   "source": [
    "# What is the output of the code below? \n",
    "for i in range(1,5):\n",
    "    print(f\"{i:2d}{(i/2):4.2f}\", end='')"
   ]
  },
  {
   "cell_type": "code",
   "execution_count": 8,
   "metadata": {},
   "outputs": [
    {
     "data": {
      "text/plain": [
       "37"
      ]
     },
     "execution_count": 8,
     "metadata": {},
     "output_type": "execute_result"
    }
   ],
   "source": [
    "# Which one is the correct way to print Bora's age? \n",
    "profs = [\n",
    "    {\"name\": \"Yener\", \"age\": 25},\n",
    "    {\"name\": \"Bora\", \"age\": 37},\n",
    "    {\"name\": \"Ali\", \"age\": 42}\n",
    "]\n",
    "profs[1][\"age\"]"
   ]
  },
  {
   "cell_type": "code",
   "execution_count": 9,
   "metadata": {},
   "outputs": [
    {
     "data": {
      "text/plain": [
       "{0, 1, 2, 3}"
      ]
     },
     "execution_count": 9,
     "metadata": {},
     "output_type": "execute_result"
    }
   ],
   "source": [
    "# What is the output of the code below?\n",
    "x = set([int(i/2) for i in range(8)])\n",
    "x "
   ]
  },
  {
   "cell_type": "code",
   "execution_count": 11,
   "metadata": {},
   "outputs": [
    {
     "data": {
      "text/plain": [
       "{0, 1, 2, 3}"
      ]
     },
     "execution_count": 11,
     "metadata": {},
     "output_type": "execute_result"
    }
   ],
   "source": [
    "# What is the output of the code below?\n",
    "x = set(i for i in range(0,4,2))\n",
    "y = set(i for i in range(1,5,2))\n",
    "x^y"
   ]
  },
  {
   "cell_type": "code",
   "execution_count": 13,
   "metadata": {},
   "outputs": [
    {
     "name": "stdout",
     "output_type": "stream",
     "text": [
      "2999999\n"
     ]
    }
   ],
   "source": [
    "# What is the output of the code below? \n",
    "print(int(2_999_999.999))"
   ]
  },
  {
   "cell_type": "code",
   "execution_count": 14,
   "metadata": {},
   "outputs": [
    {
     "name": "stdout",
     "output_type": "stream",
     "text": [
      "(1, 5, 1) <class 'tuple'>\n"
     ]
    }
   ],
   "source": [
    "# What is the output of the code below?\n",
    "x = (1,5,1)\n",
    "print(x, type(x))"
   ]
  },
  {
   "cell_type": "markdown",
   "metadata": {},
   "source": [
    "Which of the following sequences is immutable? \n",
    "- List\n",
    "- Set\n",
    "- Dictionary\n",
    "- String\n",
    "\n",
    "Answer: \n",
    "- Strings in Python are immutable, meaning once they are created, they cannot be changed or modified. Any operation that seems to modify a string actually creates a new string. For example, if you concatenate strings or slice them, you are not modifying the original string; you are creating a new string.\n"
   ]
  }
 ],
 "metadata": {
  "kernelspec": {
   "display_name": "Python 3",
   "language": "python",
   "name": "python3"
  },
  "language_info": {
   "codemirror_mode": {
    "name": "ipython",
    "version": 3
   },
   "file_extension": ".py",
   "mimetype": "text/x-python",
   "name": "python",
   "nbconvert_exporter": "python",
   "pygments_lexer": "ipython3",
   "version": "3.10.8"
  }
 },
 "nbformat": 4,
 "nbformat_minor": 2
}
