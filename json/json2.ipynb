{
 "cells": [
  {
   "cell_type": "markdown",
   "metadata": {},
   "source": [
    "## Pretty Printing JSON\n",
    "- To make JSON output more readable, use the indent parameter in json.dumps() or json.dump()."
   ]
  },
  {
   "cell_type": "code",
   "execution_count": 4,
   "metadata": {},
   "outputs": [
    {
     "name": "stdout",
     "output_type": "stream",
     "text": [
      "{\n",
      "    \"name\": \"John\",\n",
      "    \"age\": 30,\n",
      "    \"children\": [\n",
      "        \"Ann\",\n",
      "        \"Billy\"\n",
      "    ],\n",
      "    \"married\": true,\n",
      "    \"pets\": null\n",
      "}\n"
     ]
    }
   ],
   "source": [
    "# Example \n",
    "import json \n",
    "\n",
    "data = {\n",
    "    \"name\": \"John\",\n",
    "    \"age\": 30,\n",
    "    \"children\": [\"Ann\", \"Billy\"],\n",
    "    \"married\": True,\n",
    "    \"pets\": None,\n",
    "}\n",
    "\n",
    "print(json.dumps(data, indent=4))"
   ]
  },
  {
   "cell_type": "markdown",
   "metadata": {},
   "source": [
    "### Difference dumps and dump"
   ]
  },
  {
   "cell_type": "markdown",
   "metadata": {},
   "source": [
    "#### json.dumps()\n",
    "- Purpose: Converts a Python object into a JSON string. \n",
    "- Output: Returns a JSON string that can be stored in a variable or printed directly. \n",
    "- Use Case: Use this when you need the JSON data as a string, for example, to send it over a network or include it in logs."
   ]
  },
  {
   "cell_type": "code",
   "execution_count": 5,
   "metadata": {},
   "outputs": [
    {
     "name": "stdout",
     "output_type": "stream",
     "text": [
      "{\"name\": \"Cevdet\", \"age\": 23, \"is_student\": false}\n",
      "<class 'str'>\n"
     ]
    }
   ],
   "source": [
    "import json \n",
    "\n",
    "# Python object \n",
    "data = {\"name\": \"Cevdet\", \"age\": 23, \"is_student\": False}\n",
    "\n",
    "json_string = json.dumps(data)\n",
    "\n",
    "print(json_string)\n",
    "print(type(json_string))"
   ]
  },
  {
   "cell_type": "markdown",
   "metadata": {},
   "source": [
    "#### json.dump()\n",
    "- Purpose: Writes a Python object as JSON directly to a file. \n",
    "- Output: Does not return anything (None); it writes the JSON data to a specified file. \n",
    "- Use Case: Use this when you want to save the JSON data to a file. "
   ]
  },
  {
   "cell_type": "code",
   "execution_count": 6,
   "metadata": {},
   "outputs": [
    {
     "name": "stdout",
     "output_type": "stream",
     "text": [
      "JSON data written to data.json\n"
     ]
    }
   ],
   "source": [
    "import json \n",
    "\n",
    "# Python object \n",
    "data = {\"name\": \"Bob\", \"age\": 30, \"hobbies\": [\"Cycling\", \"Gaming\"]}\n",
    "\n",
    "# write JSON data to a file \n",
    "with open(\"data.json\", \"w\") as file:\n",
    "    json.dump(data, file, indent=4)\n",
    "\n",
    "print(\"JSON data written to data.json\")"
   ]
  },
  {
   "cell_type": "markdown",
   "metadata": {},
   "source": [
    "#### Indent Parameter\n",
    "- The indent parameter in Python's json.dumps() and json.dump() functions is used to control the format of the JSON output. \n",
    "- Specifically, it determines the number of spaces used for indentation, making the output more readable by humans. (often referred to as pretty-printing). "
   ]
  },
  {
   "cell_type": "markdown",
   "metadata": {},
   "source": [
    "### Sorting Keys \n",
    "- We can use the sort_key paramter in json.dumps() to sort the leys alphabetically. "
   ]
  },
  {
   "cell_type": "code",
   "execution_count": 8,
   "metadata": {},
   "outputs": [
    {
     "name": "stdout",
     "output_type": "stream",
     "text": [
      "{\n",
      "    \"age\": 30,\n",
      "    \"children\": [\n",
      "        \"Ann\",\n",
      "        \"Billy\"\n",
      "    ],\n",
      "    \"name\": \"John\",\n",
      "    \"pets\": null\n",
      "}\n"
     ]
    }
   ],
   "source": [
    "import json \n",
    "\n",
    "data = {\"name\": \"John\", \"age\": 30, \"pets\": None, \"children\": [\"Ann\", \"Billy\"]}\n",
    "print(json.dumps(data, indent=4, sort_keys=True))"
   ]
  },
  {
   "cell_type": "markdown",
   "metadata": {},
   "source": [
    "### Working with Non-Standard Data \n",
    "- The json module only works with Python objects that can be serialized.\n",
    "- If we need to serialize custom objects, we can define a custom encoder. "
   ]
  },
  {
   "cell_type": "code",
   "execution_count": 10,
   "metadata": {},
   "outputs": [
    {
     "name": "stdout",
     "output_type": "stream",
     "text": [
      "{\"name\": \"John\", \"joined\": \"2025-01-20T00:00:00\"}\n"
     ]
    }
   ],
   "source": [
    "import json \n",
    "from datetime import datetime \n",
    "\n",
    "class CustomEncoder(json.JSONEncoder):\n",
    "    def default(self, obj):\n",
    "        if isinstance(obj, datetime):\n",
    "            return obj.isoformat()\n",
    "        return super().default(obj)\n",
    "    \n",
    "data = {\"name\": \"John\", \"joined\": datetime(2025, 1, 20)}\n",
    "\n",
    "json_data = json.dumps(data, cls=CustomEncoder)\n",
    "print(json_data)"
   ]
  },
  {
   "cell_type": "markdown",
   "metadata": {},
   "source": [
    "## Common File Modes \n",
    "- r -> Open the file for reading only.\n",
    "- w -> Open the file for writing only. If the file exists, its contents are erased. If it doesn't exist, a new file is created. \n",
    "- a -> Open the file for appending. Data is written to the end of the file without erasing existing content. If the file doesn't exist, a new one is created. \n",
    "- x -> Open the file for exclusive creation. If the file already exists, an error is raised. \n",
    "- b -> Open the file in binary mode (used with other models like rb, wb). Used for non-text files (images).\n",
    "- t -> Open the file in text mode (default). Used for text files. \n",
    "- + -> Open the file for both reading and writing. Used with other modes like r+, w+, a+. "
   ]
  }
 ],
 "metadata": {
  "kernelspec": {
   "display_name": "Python 3",
   "language": "python",
   "name": "python3"
  },
  "language_info": {
   "codemirror_mode": {
    "name": "ipython",
    "version": 3
   },
   "file_extension": ".py",
   "mimetype": "text/x-python",
   "name": "python",
   "nbconvert_exporter": "python",
   "pygments_lexer": "ipython3",
   "version": "3.12.4"
  }
 },
 "nbformat": 4,
 "nbformat_minor": 2
}
