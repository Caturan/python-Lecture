{
 "cells": [
  {
   "cell_type": "markdown",
   "metadata": {},
   "source": [
    "# Common Uses"
   ]
  },
  {
   "cell_type": "markdown",
   "metadata": {},
   "source": [
    "## 1. Storing Configuration Data \n",
    "- JSON is widely used for storing configuration settings, as it is lightweight and human-readable. \n",
    "- Many applications use a config.json file to store settings that can be easily edited or updated. "
   ]
  },
  {
   "cell_type": "code",
   "execution_count": 1,
   "metadata": {},
   "outputs": [
    {
     "name": "stdout",
     "output_type": "stream",
     "text": [
      "Loaded configuration: {'app_name': 'MyApp', 'version': '1.0.0', 'settings': {'theme': 'dark', 'notifications': True, 'auto_save': True}}\n"
     ]
    }
   ],
   "source": [
    "import json \n",
    "\n",
    "config = {\n",
    "    \"app_name\": \"MyApp\",\n",
    "    \"version\": \"1.0.0\",\n",
    "    \"settings\": {\n",
    "        \"theme\": \"dark\",\n",
    "        \"notifications\": True,\n",
    "        \"auto_save\": True\n",
    "    }\n",
    "}\n",
    "\n",
    "with open(\"config.json\", \"w\") as config_file:\n",
    "    json.dump(config, config_file, indent=4) \n",
    "\n",
    "with open(\"config.json\", \"r\") as config_file:\n",
    "    loaded_config = json.load(config_file)\n",
    "\n",
    "print(\"Loaded configuration:\", loaded_config)"
   ]
  },
  {
   "cell_type": "markdown",
   "metadata": {},
   "source": [
    "## Web Development and APIs \n",
    "- In web development, JSON is a common format for sending and receiving data between a client(browser) and a server (backend). \n",
    "- Python is often used in web frameworks like Flask or Django to handle JSON data. "
   ]
  },
  {
   "cell_type": "code",
   "execution_count": null,
   "metadata": {},
   "outputs": [],
   "source": [
    "pip install flask"
   ]
  },
  {
   "cell_type": "code",
   "execution_count": null,
   "metadata": {},
   "outputs": [],
   "source": [
    "import json \n",
    "from flask import Flask, jsonify, request \n",
    "\n",
    "app = Flask(__name__)\n",
    "\n",
    "@app.route('/get_user', methods=['GET'])\n",
    "def get_user():\n",
    "    user_data = {\"name\": \"Alice\", \"age\": 25, \"is_student\": False}\n",
    "    return jsonify(user_data)\n",
    "\n",
    "@app.route('/add_user', methods=['POST'])\n",
    "def add_user():\n",
    "    data = request.get_json()\n",
    "    print(\"Received data:\", data)\n",
    "    return {\"message\": \"User added succesfully\"}, 201\n",
    "\n",
    "if __name__ == \"__main__\":\n",
    "    app.run(debug=True)"
   ]
  },
  {
   "cell_type": "markdown",
   "metadata": {},
   "source": [
    "## Logging Data \n",
    "- In applications where logging is essential (tracking user behavior, monitoring errors).\n",
    "- JSON is a popular format for saving logs because it can be easily parsed and analyzed. "
   ]
  },
  {
   "cell_type": "code",
   "execution_count": 5,
   "metadata": {},
   "outputs": [
    {
     "name": "stdout",
     "output_type": "stream",
     "text": [
      "Logs saved to logs.json\n"
     ]
    }
   ],
   "source": [
    "import json \n",
    "from datetime import datetime \n",
    "\n",
    "log_data = [\n",
    "    {\"timestamp\": datetime.now().isoformat(), \"action\": \"login\", \"user\": \"Alice\"},\n",
    "    {\"timestamp\": datetime.now().isoformat(), \"action\": \"upload\", \"user\": \"Alice\", \"file\": \"document.pdf\"},\n",
    "]\n",
    "\n",
    "with open(\"logs.json\", \"w\") as log_file:\n",
    "    json.dump(log_data, log_file, indent=4)\n",
    "\n",
    "print(\"Logs saved to logs.json\")"
   ]
  },
  {
   "cell_type": "markdown",
   "metadata": {},
   "source": [
    "## Data Serialization for Machine Learning \n",
    "- When working with machine learning projects, JSON is often used to save and load model configuration, training results, or preprocessing parameters. "
   ]
  },
  {
   "cell_type": "code",
   "execution_count": 7,
   "metadata": {},
   "outputs": [
    {
     "name": "stdout",
     "output_type": "stream",
     "text": [
      "Loaded preprocessing configuration {'normalize': True, 'image_size': [224, 224], 'batch_size': 32}\n"
     ]
    }
   ],
   "source": [
    "import json \n",
    "\n",
    "preprocessing_config = {\n",
    "    \"normalize\": True,\n",
    "    \"image_size\": [224, 224], \n",
    "    \"batch_size\": 32\n",
    "}\n",
    "\n",
    "with open(\"preprocessing_config.json\", \"w\") as file: \n",
    "    json.dump(preprocessing_config, file, indent=4)\n",
    "\n",
    "with open(\"preprocessing_config.json\", \"r\") as file:\n",
    "    loaded_config = json.load(file)\n",
    "\n",
    "print(\"Loaded preprocessing configuration\", loaded_config)"
   ]
  },
  {
   "cell_type": "markdown",
   "metadata": {},
   "source": [
    "## Interfacing with External APIs \n",
    "- Many public APIs (like OpenWeather, Google Maps, or Twitter(X)) send responses in JSON format. \n",
    "- Python json module is perfect for parsing this data. "
   ]
  },
  {
   "cell_type": "code",
   "execution_count": 8,
   "metadata": {},
   "outputs": [
    {
     "name": "stdout",
     "output_type": "stream",
     "text": [
      "API Response {\n",
      "    \"count\": 8172,\n",
      "    \"name\": \"Micheal\",\n",
      "    \"age\": 58\n",
      "}\n"
     ]
    }
   ],
   "source": [
    "import json \n",
    "import requests \n",
    "\n",
    "# Fetch data from a public API\n",
    "response = requests.get(\"https://api.agify.io?name=Micheal\")\n",
    "data = response.json() \n",
    "\n",
    "print(\"API Response\", json.dumps(data, indent=4))"
   ]
  },
  {
   "cell_type": "markdown",
   "metadata": {},
   "source": [
    "## Data Interchange \n",
    "- JSON is commonly used to transfer data between different systems or languages. \n",
    "- Python applications often use JSON to communicate with systems written in Java, JavaScript, or other languages. "
   ]
  },
  {
   "cell_type": "code",
   "execution_count": 9,
   "metadata": {},
   "outputs": [
    {
     "name": "stdout",
     "output_type": "stream",
     "text": [
      "Sending JSON data: {\"name\": \"Charlie\", \"age\": 35, \"active\": true}\n",
      "Received Python object: {'name': 'Charlie', 'age': 35, 'active': True}\n"
     ]
    }
   ],
   "source": [
    "import json \n",
    "\n",
    "data = {\"name\": \"Charlie\", \"age\": 35, \"active\": True}\n",
    "\n",
    "json_data = json.dumps(data)\n",
    "\n",
    "print(f\"Sending JSON data: {json_data}\")\n",
    "\n",
    "received_data = '{\"name\": \"Charlie\", \"age\": 35, \"active\": true}'\n",
    "python_data = json.loads(received_data)\n",
    "\n",
    "print(f\"Received Python object: {python_data}\")"
   ]
  },
  {
   "cell_type": "markdown",
   "metadata": {},
   "source": [
    "## Managing Nested and Complex Data Structures \n",
    "- JSON supports nested structures, making it useful for managing hierarchical data such as directory structures, relationships, or deeply nested objects. "
   ]
  },
  {
   "cell_type": "code",
   "execution_count": 12,
   "metadata": {},
   "outputs": [
    {
     "name": "stdout",
     "output_type": "stream",
     "text": [
      "{\n",
      "    \"company\": \"TechCorp\",\n",
      "    \"employees\": [\n",
      "        {\n",
      "            \"name\": \"Alice\",\n",
      "            \"role\": \"Engineer\"\n",
      "        },\n",
      "        {\n",
      "            \"name\": \"Bob\",\n",
      "            \"role\": \"Designer\"\n",
      "        }\n",
      "    ],\n",
      "    \"offices\": {\n",
      "        \"New York\": {\n",
      "            \"address\": \"123 Main St\",\n",
      "            \"employees\": 100\n",
      "        },\n",
      "        \"San Francisco\": {\n",
      "            \"address\": \"456 Market St\",\n",
      "            \"employees\": 50\n",
      "        }\n",
      "    }\n",
      "}\n",
      "123 Main St\n"
     ]
    }
   ],
   "source": [
    "import json \n",
    "\n",
    "nested_data = {\n",
    "    \"company\": \"TechCorp\",\n",
    "    \"employees\": [\n",
    "        {\"name\": \"Alice\", \"role\": \"Engineer\"},\n",
    "        {\"name\": \"Bob\", \"role\": \"Designer\"}\n",
    "    ],\n",
    "    \"offices\": {\n",
    "        \"New York\": {\"address\": \"123 Main St\", \"employees\": 100},\n",
    "        \"San Francisco\": {\"address\": \"456 Market St\", \"employees\": 50}\n",
    "    }\n",
    "}\n",
    "\n",
    "print(json.dumps(nested_data, indent=4))\n",
    "print(nested_data[\"offices\"][\"New York\"][\"address\"])"
   ]
  },
  {
   "cell_type": "markdown",
   "metadata": {},
   "source": [
    "## Sharing Data for Visualization \n",
    "- JSON is a common format for transfering data to visualization tools (like D3.js, Tableau) or to front-end libraries. "
   ]
  },
  {
   "cell_type": "code",
   "execution_count": 13,
   "metadata": {},
   "outputs": [
    {
     "name": "stdout",
     "output_type": "stream",
     "text": [
      "Chart data saved to chart_data.json\n"
     ]
    }
   ],
   "source": [
    "import json \n",
    "\n",
    "data = {\n",
    "    \"labels\": [\"January\", \"February\", \"March\"],\n",
    "    \"values\": [100, 150, 200]\n",
    "}\n",
    "\n",
    "with open(\"chart_data.json\", \"w\") as file:\n",
    "    json.dump(data, file)\n",
    "\n",
    "print(\"Chart data saved to chart_data.json\")"
   ]
  },
  {
   "cell_type": "markdown",
   "metadata": {},
   "source": [
    "## Writing Unit Tests \n",
    "- When testing applications that interact with APIs or work with JSON files, we can use JSON fixtures as input data. "
   ]
  },
  {
   "cell_type": "code",
   "execution_count": 16,
   "metadata": {},
   "outputs": [
    {
     "name": "stderr",
     "output_type": "stream",
     "text": [
      "<>:10: SyntaxWarning: str indices must be integers or slices, not str; perhaps you missed a comma?\n",
      "<>:10: SyntaxWarning: str indices must be integers or slices, not str; perhaps you missed a comma?\n",
      "C:\\Users\\Casper\\AppData\\Local\\Temp\\ipykernel_11948\\3130855466.py:10: SyntaxWarning: str indices must be integers or slices, not str; perhaps you missed a comma?\n",
      "  self.assertEqual(parsed_response[\"data\"[\"user\"], \"Alice\"])\n",
      "usage: ipykernel_launcher.py [-h] [-v] [-q] [--locals] [--durations N] [-f]\n",
      "                             [-c] [-b] [-k TESTNAMEPATTERNS]\n",
      "                             [tests ...]\n",
      "ipykernel_launcher.py: error: argument -f/--failfast: ignored explicit argument 'c:\\\\Users\\\\Casper\\\\AppData\\\\Roaming\\\\jupyter\\\\runtime\\\\kernel-v3b0da1900d738d18fb015b82fb3794b21a26b46d3.json'\n"
     ]
    },
    {
     "ename": "SystemExit",
     "evalue": "2",
     "output_type": "error",
     "traceback": [
      "An exception has occurred, use %tb to see the full traceback.\n",
      "\u001b[1;31mSystemExit\u001b[0m\u001b[1;31m:\u001b[0m 2\n"
     ]
    }
   ],
   "source": [
    "import json \n",
    "import unittest \n",
    "\n",
    "class TestAPI(unittest.TestCase):\n",
    "    def test_response_parsing(self):\n",
    "        api_response = '{\"success\": true, \"data\": {\"user\": \"Alice\", \"id\": 123}}'\n",
    "        parsed_response = json.loads(api_response)\n",
    "\n",
    "        self.assertTrue(parsed_response[\"success\"])\n",
    "        self.assertEqual(parsed_response[\"data\"][\"user\"], \"Alice\")\n",
    "\n",
    "if __name__ == \"__main__\":\n",
    "    unittest.main()"
   ]
  }
 ],
 "metadata": {
  "kernelspec": {
   "display_name": "Python 3",
   "language": "python",
   "name": "python3"
  },
  "language_info": {
   "codemirror_mode": {
    "name": "ipython",
    "version": 3
   },
   "file_extension": ".py",
   "mimetype": "text/x-python",
   "name": "python",
   "nbconvert_exporter": "python",
   "pygments_lexer": "ipython3",
   "version": "3.12.4"
  }
 },
 "nbformat": 4,
 "nbformat_minor": 2
}
